{
 "cells": [
  {
   "cell_type": "code",
   "execution_count": 3,
   "metadata": {},
   "outputs": [
    {
     "ename": "ModuleNotFoundError",
     "evalue": "No module named 'simplejson'",
     "output_type": "error",
     "traceback": [
      "\u001b[1;31m---------------------------------------------------------------------------\u001b[0m",
      "\u001b[1;31mModuleNotFoundError\u001b[0m                       Traceback (most recent call last)",
      "Cell \u001b[1;32mIn[3], line 3\u001b[0m\n\u001b[0;32m      1\u001b[0m \u001b[38;5;66;03m#!/usr/bin/env python\u001b[39;00m\n\u001b[0;32m      2\u001b[0m \u001b[38;5;28;01mimport\u001b[39;00m \u001b[38;5;21;01mrequests\u001b[39;00m\n\u001b[1;32m----> 3\u001b[0m \u001b[38;5;28;01mimport\u001b[39;00m \u001b[38;5;21;01msimplejson\u001b[39;00m \u001b[38;5;28;01mas\u001b[39;00m \u001b[38;5;21;01mjson\u001b[39;00m\n\u001b[0;32m      5\u001b[0m \u001b[38;5;28;01mclass\u001b[39;00m \u001b[38;5;21;01mAttackAPI\u001b[39;00m:\n\u001b[0;32m      6\u001b[0m     \u001b[38;5;28;01mdef\u001b[39;00m \u001b[38;5;21m__init__\u001b[39m(\u001b[38;5;28mself\u001b[39m, base_url\u001b[38;5;241m=\u001b[39m\u001b[38;5;124m\"\u001b[39m\u001b[38;5;124mhttps://api.mitre.org\u001b[39m\u001b[38;5;124m\"\u001b[39m):\n",
      "\u001b[1;31mModuleNotFoundError\u001b[0m: No module named 'simplejson'"
     ]
    }
   ],
   "source": [
    "#!/usr/bin/env python\n",
    "import requests\n",
    "import simplejson as json\n",
    "\n",
    "class AttackAPI:\n",
    "    def __init__(self, base_url=\"https://api.mitre.org\"):\n",
    "        self.base_url = base_url\n",
    "\n",
    "    def get_techniques(self):\n",
    "        endpoint = f\"{self.base_url}/api/attack/techniques\"\n",
    "        response = requests.get(endpoint)\n",
    "        if response.status_code == 200:\n",
    "            return json.loads(response.text)\n",
    "        else:\n",
    "            raise Exception(f\"Error: {response.status_code}\")\n",
    "\n",
    "    def search_techniques(self, search_string):\n",
    "        techniques = self.get_techniques()\n",
    "        matching_techniques = []\n",
    "        for technique in techniques:\n",
    "            if search_string.lower() in technique['name'].lower() or search_string.lower() in technique['description'].lower():\n",
    "                matching_techniques.append(technique)\n",
    "        return matching_techniques\n",
    "\n",
    "# Example usage\n",
    "if __name__ == \"__main__\":\n",
    "    api = AttackAPI()\n",
    "\n",
    "    # Search for techniques containing a specific string\n",
    "    search_string = input(\"Enter a search string: \")\n",
    "    matching_techniques = api.search_techniques(search_string)\n",
    "\n",
    "    if len(matching_techniques) > 0:\n",
    "        print(f\"\\nMatching Techniques for '{search_string}':\")\n",
    "        for technique in matching_techniques:\n",
    "            print(f\"ID: {technique['id']}\")\n",
    "            print(f\"Name: {technique['name']}\")\n",
    "            print(f\"Description: {technique['description']}\")\n",
    "            print(\"---\")\n",
    "    else:\n",
    "        print(f\"\\nNo matching techniques found for '{search_string}'.\")"
   ]
  }
 ],
 "metadata": {
  "kernelspec": {
   "display_name": "Python 3",
   "language": "python",
   "name": "python3"
  },
  "language_info": {
   "codemirror_mode": {
    "name": "ipython",
    "version": 3
   },
   "file_extension": ".py",
   "mimetype": "text/x-python",
   "name": "python",
   "nbconvert_exporter": "python",
   "pygments_lexer": "ipython3",
   "version": "3.11.3"
  }
 },
 "nbformat": 4,
 "nbformat_minor": 2
}
